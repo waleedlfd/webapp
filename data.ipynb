{
 "cells": [
  {
   "cell_type": "code",
   "execution_count": 5,
   "id": "9477a00e-3bad-4f75-a72b-1eef1010fbd6",
   "metadata": {},
   "outputs": [],
   "source": [
    "import plotly.graph_objs as go\n",
    "import plotly.express as px\n",
    "import pandas as pd\n",
    "import numpy as np\n",
    "import random\n",
    "from datetime import datetime, timedelta\n",
    "np.random.seed(123)"
   ]
  },
  {
   "cell_type": "markdown",
   "id": "ad2a3a81-36c0-4de9-992b-dd50f84fe457",
   "metadata": {
    "tags": []
   },
   "source": [
    "## Synthetic Data Creation"
   ]
  },
  {
   "cell_type": "markdown",
   "id": "767cf91d-424e-4893-993c-d6342b44fe55",
   "metadata": {
    "jp-MarkdownHeadingCollapsed": true,
    "tags": []
   },
   "source": [
    "### 1. Customer Scores"
   ]
  },
  {
   "cell_type": "code",
   "execution_count": 6,
   "id": "ac8d078b-4886-436c-a387-36ee0f6361d0",
   "metadata": {},
   "outputs": [],
   "source": [
    "customer_ids = list(range(1, 1501))\n",
    "credit_scores = []\n",
    "risk_categories = []\n",
    "limit_amounts = []\n",
    "probability_of_defaults = []\n",
    "prob_on_time = []\n",
    "prob_30_late = []\n",
    "prob_60_late = []\n",
    "prob_90_late = []\n",
    "\n",
    "for i in customer_ids:\n",
    "    probability_of_default = random.uniform(0, 1)\n",
    "    probability_of_defaults.append(probability_of_default)\n",
    "    if probability_of_default > 0 and probability_of_default <= 0.4:\n",
    "        credit_score = random.randint(75, 100)\n",
    "        credit_scores.append(credit_score)\n",
    "        risk_category = 'low'\n",
    "        risk_categories.append(risk_category)\n",
    "        limit_amount = random.randint(10000000, 50000000)\n",
    "        limit_amounts.append(limit_amount)\n",
    "        prob_on_time.append(0.6)\n",
    "        prob_30_late.append(0.2)\n",
    "        prob_60_late.append(0.1)\n",
    "        prob_90_late.append(0.1)\n",
    "\n",
    "    elif probability_of_default >= 0.4 and probability_of_default <= 0.7:\n",
    "        credit_score = random.randint(45, 75)\n",
    "        credit_scores.append(credit_score)\n",
    "        risk_category = 'medium'\n",
    "        risk_categories.append(risk_category)\n",
    "        limit_amount = random.randint(5000000, 10000000)\n",
    "        limit_amounts.append(limit_amount)\n",
    "        prob_on_time.append(0.4)\n",
    "        prob_30_late.append(0.3)\n",
    "        prob_60_late.append(0.2)\n",
    "        prob_90_late.append(0.1)\n",
    "    else:\n",
    "        credit_score = random.randint(0, 45)\n",
    "        credit_scores.append(credit_score)\n",
    "        risk_category = 'high'\n",
    "        risk_categories.append(risk_category)\n",
    "        limit_amount = random.randint(500000, 1000000)\n",
    "        limit_amounts.append(limit_amount)\n",
    "        prob_on_time.append(0.2)\n",
    "        prob_30_late.append(0.2)\n",
    "        prob_60_late.append(0.3)\n",
    "        prob_90_late.append(0.3)\n",
    "\n",
    "synthetic_dataset = {'customer_id': customer_ids, \n",
    "                     'credit_score': credit_scores, \n",
    "                     'risk_category': risk_categories, \n",
    "                     'limit_amount': limit_amounts,\n",
    "                     'probability_of_default': probability_of_defaults,\n",
    "                     'prob_on_time': prob_on_time,\n",
    "                     'prob_30_late': prob_30_late,\n",
    "                     'prob_60_late': prob_60_late,\n",
    "                     'prob_90_late': prob_90_late}\n",
    "\n",
    "df = pd.DataFrame(synthetic_dataset)"
   ]
  },
  {
   "cell_type": "code",
   "execution_count": 220,
   "id": "ab2d39a2-991a-4bbb-991c-d773ce552f28",
   "metadata": {},
   "outputs": [],
   "source": [
    "netcashflow = []\n",
    "credit_utilization_ratio = []\n",
    "debt_to_income_ratio = []\n",
    "collateral_value_ratio = []\n",
    "risk_category = df['risk_category'].tolist()\n",
    "\n",
    "for index, row in df.iterrows():\n",
    "    if risk_category[index] == 'low':\n",
    "        netcashflow.append(random.uniform(10000000, 50000000))\n",
    "        credit_utilization_ratio.append(random.uniform(0.25, 0.5))\n",
    "        debt_to_income_ratio.append(random.uniform(0.25, 0.4))\n",
    "        collateral_value_ratio.append(random.uniform(0.25, 5))\n",
    "    elif risk_category[index] == 'medium':\n",
    "        netcashflow.append(random.uniform(5000000, 10000000))\n",
    "        credit_utilization_ratio.append(random.uniform(0.4, 0.7))\n",
    "        debt_to_income_ratio.append(random.uniform(0.5, 0.6))\n",
    "        collateral_value_ratio.append(random.uniform(0.5, 0.75))\n",
    "    elif risk_category[index] == 'high':\n",
    "        netcashflow.append(random.uniform(500000, 1000000))\n",
    "        credit_utilization_ratio.append(random.uniform(0.7, 1))\n",
    "        debt_to_income_ratio.append(random.uniform(0.6, 0.9))\n",
    "        collateral_value_ratio.append(random.uniform(0.75, 1))\n",
    "        \n",
    "df['netcashflow'] = netcashflow\n",
    "df['credit_utilization_ratio'] = credit_utilization_ratio\n",
    "df['debt_to_income_ratio'] = debt_to_income_ratio\n",
    "df['collateral_value_ratio'] = collateral_value_ratio"
   ]
  },
  {
   "cell_type": "code",
   "execution_count": 221,
   "id": "8073446b-6b0b-4b91-afbe-b5a9f6a92935",
   "metadata": {},
   "outputs": [],
   "source": [
    "df['risk_category'] = df['risk_category'].map({'high':'High', 'medium':'Medium', 'low':'Low'})\n",
    "df = df.rename(columns={'customer_id':'Customer_ID',  'prob_on_time': 'On Time', \"prob_30_late\": 'DPD 30', \"prob_60_late\": 'DPD 60', \"prob_90_late\": \"DPD 90\", 'risk_category': 'Risk Category', 'credit_score': 'Credit Score', 'limit_amount': 'Limit Amount', 'probability_of_default': 'Probability of Default', 'netcashflow': 'Net Cash-flow', 'credit_utilization_ratio': 'Credit Utilization', 'debt_to_income_ratio': 'Debt to Income', \"collateral_value_ratio\": 'Loan to Value'})\n",
    "df = df.rename(columns={\"credit_utilization_ratio\": 'Credit Utilization Ratio' , \"debt_to_income_ratio\": \"Debt To Income Ratio\",  \"collateral_value_ratio\" : 'Collateral Value Ratio'})"
   ]
  },
  {
   "cell_type": "code",
   "execution_count": 172,
   "id": "4da8877f-69eb-48f2-ba91-3d5292a42687",
   "metadata": {},
   "outputs": [],
   "source": [
    "# df.to_csv('customer5.csv', index=False)"
   ]
  },
  {
   "cell_type": "markdown",
   "id": "b012369d-c094-4b54-a047-aa8f33b39bc0",
   "metadata": {
    "jp-MarkdownHeadingCollapsed": true,
    "tags": []
   },
   "source": [
    "### 2. Demographics and KYC"
   ]
  },
  {
   "cell_type": "code",
   "execution_count": 222,
   "id": "70a5a791-8c09-4c6a-a663-edc132000d79",
   "metadata": {},
   "outputs": [],
   "source": [
    "customer_ids = np.arange(1, 1501)\n",
    "\n",
    "education_levels = ['Intermediate/A-level', 'Masters or Higher', 'Bachelors', 'Matric/O-level']\n",
    "cities = ['Karachi', 'Lahore', 'Islamabad', 'Faisalabad', 'Multan']\n",
    "marital_statuses = ['Married', 'Single', 'Widowed']\n",
    "businesses = ['Food manufacturing', 'Cotton', 'Vegetable Oil and Ghee Mills', 'Crude Oil Refining', 'Casting of Iron & Steel', 'Mining & Minerals', 'Chemicals & Fertilizers', 'Food and Beverages']\n",
    "\n",
    "ages = np.random.normal(40, 5, size=1500).astype(int)\n",
    "edu_frequencies = [0.3, 0.2, 0.4, 0.1]\n",
    "city_frequencies = [0.3, 0.3, 0.2, 0.1, 0.1]\n",
    "marital_frequencies = [0.5, 0.3, 0.2]\n",
    "bus_frequencies = [0.2, 0.2, 0.2, 0.1, 0.1, 0.1, 0.05, 0.05]\n",
    "\n",
    "data = []\n",
    "for customer_id in customer_ids:\n",
    "    education_level = np.random.choice(education_levels, p=edu_frequencies)\n",
    "    city = np.random.choice(cities, p=city_frequencies)\n",
    "    marital_status = np.random.choice(marital_statuses)\n",
    "    business = np.random.choice(businesses, p=business_frequencies)\n",
    "    age = np.random.choice(ages)\n",
    "    data.append((customer_id, education_level, city, age, marital_status, business))\n",
    "\n",
    "df_kyc = pd.DataFrame(data, columns=['Customer_ID',  'Education Level', 'City', 'Age', 'Marital Status', 'Business'])"
   ]
  },
  {
   "cell_type": "code",
   "execution_count": 211,
   "id": "a195055e-319c-4ee6-9a01-9c5456cff1ff",
   "metadata": {},
   "outputs": [],
   "source": [
    "# df_kyc.to_csv('cust_kyc.csv', index=False)\n",
    "\n",
    "# Merge scores and kyc. Both these tables contain unique Customer IDS and so we can safely merge them\n",
    "# df.merge(df_kyc, left_on ='Customer_ID', right_on='Customer_ID').to_csv('cust_score.csv', index=False)"
   ]
  },
  {
   "cell_type": "code",
   "execution_count": 226,
   "id": "90c08515-8a58-4abf-96f2-8e843dc6ea20",
   "metadata": {},
   "outputs": [],
   "source": []
  },
  {
   "cell_type": "markdown",
   "id": "e5fa5e74-24c2-4958-b88c-a34345c5a7c2",
   "metadata": {
    "jp-MarkdownHeadingCollapsed": true,
    "tags": []
   },
   "source": [
    "### 3. Collaterals"
   ]
  },
  {
   "cell_type": "code",
   "execution_count": 227,
   "id": "45b6fc30-3dac-406f-997c-920ce8cb409a",
   "metadata": {},
   "outputs": [],
   "source": [
    "collateral_types = ['Real Estate', 'Vehicles', 'Precious Metals', 'Shares and Securities', 'Deposits with ABL']\n",
    "num_collaterals_distribution = [0.15, 0.35, 0.35, 0.1, 0.05]\n",
    "collateral_value_range = (500000, 10000000)\n",
    "\n",
    "data = []\n",
    "for customer_id in range(1, 1501):\n",
    "    num_collaterals = np.random.choice([3, 4, 5], p=[0.4, 0.4, 0.2])\n",
    "    collateral_types_for_customer = np.random.choice(collateral_types, size=num_collaterals, replace=False, p=num_collaterals_distribution)\n",
    "    collateral_values_for_customer = np.random.randint(*collateral_value_range, size=num_collaterals)\n",
    "    customer_data = list(zip([customer_id] * num_collaterals, collateral_types_for_customer, collateral_values_for_customer))\n",
    "    data.extend(customer_data)\n",
    "\n",
    "df_col = pd.DataFrame(data, columns=['Customer_ID', 'Collateral Type', 'Collateral Value'])"
   ]
  },
  {
   "cell_type": "code",
   "execution_count": 216,
   "id": "8f60aa58-ecf3-4042-80c1-34f6d54b80d7",
   "metadata": {},
   "outputs": [],
   "source": [
    "# df_col.to_csv('cust_col.csv', index = False)"
   ]
  },
  {
   "cell_type": "markdown",
   "id": "6c05a6e4-350a-41ef-9ba0-ebaf970b3987",
   "metadata": {
    "jp-MarkdownHeadingCollapsed": true,
    "tags": []
   },
   "source": [
    "### 4. Net Cashflows"
   ]
  },
  {
   "cell_type": "code",
   "execution_count": 247,
   "id": "b4d382d4-e40e-4b76-9ad8-578ed137e392",
   "metadata": {},
   "outputs": [],
   "source": [
    "start_date = datetime(2020, 1, 1)\n",
    "end_date = datetime(2023, 12, 31)\n",
    "num_months = (end_date.year - start_date.year) * 12 + (end_date.month - start_date.month) + 1\n",
    "date_range = pd.date_range(start=start_date, end=end_date, freq='MS')\n",
    "\n",
    "num_customers = 1500\n",
    "customer_ids = np.arange(num_customers) + 1\n",
    "monthly_predicted = []\n",
    "monthly_actual = []\n",
    "for i in range(num_customers):\n",
    "    monthly_predicted.append(np.random.normal(loc=5000000, scale=100000, size=num_months))\n",
    "    monthly_actual.append(np.random.normal(loc=5000000, scale=100000, size=num_months))\n",
    "\n",
    "df_trans = pd.DataFrame({\n",
    "    'customer_id': np.repeat(customer_ids, num_months),\n",
    "    'date': np.tile(date_range, num_customers),\n",
    "    'netcashflow_predicted': np.concatenate(monthly_predicted),\n",
    "    'netcashflow_actual': np.concatenate(monthly_actual)\n",
    "})\n",
    "\n",
    "df_trans.columns = ['Customer_ID', 'Date', 'Net Cashflow Predicted', 'Net Cashflow Actual']\n",
    "df_trans.to_csv('cust_trans.csv', index = False)"
   ]
  },
  {
   "cell_type": "markdown",
   "id": "39daeb1f-0da0-49c4-a6f6-135033489d47",
   "metadata": {
    "tags": []
   },
   "source": [
    "### 5. Final Data"
   ]
  },
  {
   "cell_type": "code",
   "execution_count": 9,
   "id": "09a39a87-1ef3-4aaf-be06-db541d070fc4",
   "metadata": {},
   "outputs": [],
   "source": [
    "df = pd.read_csv('cust_score.csv')\n",
    "df_trans = pd.read_csv('cust_trans.csv')\n",
    "df_col = pd.read_csv('cust_col.csv')\n",
    "df_kyc = pd.read_csv('cust_kyc.csv')\n",
    "df_filter = pd.read_csv('customer_filter.csv')\n",
    "df_trajec = pd.read_csv('trajectory.csv')"
   ]
  },
  {
   "cell_type": "code",
   "execution_count": null,
   "id": "bc94c253-12c3-4ef4-9325-83e66a3ce9df",
   "metadata": {},
   "outputs": [],
   "source": [
    "result_df = pd.concat(df_list, ignore_index=True)"
   ]
  },
  {
   "cell_type": "code",
   "execution_count": null,
   "id": "d6ca2e79-521c-4e2a-b4f4-aa3216bdca56",
   "metadata": {},
   "outputs": [],
   "source": [
    "df = pd.DataFrame({\n",
    "    'Customer_ID': [1, 2, 3, 4, 5],\n",
    "    'Credit Score': [95, 35, 13, 92, 86],\n",
    "    'Limit Amount': [37913841, 841451, 967638, 16510378, 15064371],\n",
    "    'Probability of Default': [0.197477, 0.892358, 0.743595, 0.069763, 0.207578],\n",
    "    'Credit Utilization': [0.315243, 0.781003, 0.802071, 0.483954, 0.295304],\n",
    "    'Debt to Income': [0.256476, 0.799984, 0.776986, 0.274977, 0.355297],\n",
    "    'Loan to Value': [2.016368, 0.793310, 0.854931, 4.500609, 0.288786]\n",
    "})\n",
    "\n",
    "df_list = []\n",
    "for i in range(6):\n",
    "    date = datetime(2023, 6, 1) + timedelta(days=i)\n",
    "    df_copy = df.copy()\n",
    "    df_copy['Date'] = date.strftime('%Y-%d-%m')\n",
    "    df_list.append(df_copy)\n",
    "    \n",
    "result_df = pd.concat(df_list, ignore_index=True)\n",
    "result_df"
   ]
  },
  {
   "cell_type": "markdown",
   "id": "50f5899f-cc1a-4e5b-ac1e-92a24dcda665",
   "metadata": {
    "jp-MarkdownHeadingCollapsed": true,
    "tags": []
   },
   "source": [
    "#### Community Detection Visuals"
   ]
  },
  {
   "cell_type": "code",
   "execution_count": 3,
   "id": "74d208a3-a0c1-44c7-859a-d76a13070714",
   "metadata": {},
   "outputs": [],
   "source": [
    "import networkx as nx\n",
    "from pyvis.network import Network\n",
    "import pandas as pd\n",
    "import numpy as np\n",
    "import streamlit as st\n",
    "import streamlit.components.v1 as components\n",
    "# from model import run_community_detection, run_community_detection_v2\n",
    "import plotly.express as px\n",
    "import plotly.graph_objs as go\n",
    "import json"
   ]
  },
  {
   "cell_type": "code",
   "execution_count": 7,
   "id": "1e89b1e7-d120-4d50-953f-4a1bae1c1fa5",
   "metadata": {},
   "outputs": [],
   "source": [
    "df = pd.read_csv('E:\\Community Detection\\data\\community14.csv')"
   ]
  },
  {
   "cell_type": "code",
   "execution_count": 36,
   "id": "a7fc1c6e-9f38-425b-bb42-767ce78d9033",
   "metadata": {},
   "outputs": [],
   "source": [
    "def visualize_network(community, colors_dict, shape_dict):\n",
    "\n",
    "    net = Network(height=\"1000px\", width=\"1500px\", font_color=\"white\", bgcolor='rgb(14, 17, 23)', select_menu=True, filter_menu=True,  cdn_resources='remote', notebook=True)\n",
    "    sources =  community['source']\n",
    "    targets =  community['target']\n",
    "    # weights =  community['weight']\n",
    "\n",
    "    for col in zip(sources, targets):\n",
    "\n",
    "        src =   col[0]\n",
    "        dst =   col[1]\n",
    "        # w =     col[2]\n",
    "        \n",
    "        # net.add_node(src, src, title=src)\n",
    "        # net.add_node(dst, dst, title=dst)\n",
    "        net.add_node(src, src, title=src, color=colors_dict['Supplier'], borderWidth=4, borderColor='black', shape=shape_dict['Supplier'])\n",
    "        net.add_node(dst, dst, title=dst, color=colors_dict['Buyer'], borderWidth=4, borderColor='black', shape=shape_dict['Buyer'])\n",
    "        # net.add_edge(src, dst, value=w)\n",
    "        net.add_edge(src, dst)\n",
    "\n",
    "    neighbor_map = net.get_adj_list()\n",
    "    for node in net.nodes:\n",
    "                node[\"title\"] += \" Neighbors: \" + \"\\n\".join(neighbor_map[node[\"id\"]])\n",
    "                node[\"value\"] = len(neighbor_map[node[\"id\"]])\n",
    "\n",
    "    # # Set the options for the network\n",
    "    # net.set_options(json_object)\n",
    "    net.show_buttons(filter_=['nodes', 'edges', 'physics'])\n",
    "    net.show(\"network.html\")\n",
    "    HtmlFile = open(\"network.html\", 'r', encoding='utf-8')\n",
    "    source_code = HtmlFile.read() \n",
    "    # return components.html(source_code, height = 3000, width=1500)\n",
    "    return  net.show(\"network.html\")"
   ]
  },
  {
   "cell_type": "code",
   "execution_count": 16,
   "id": "8161b2d1-3a50-487a-b557-3ba51e4e2dd2",
   "metadata": {},
   "outputs": [],
   "source": [
    "df = df.drop_duplicates(subset = ['target', 'source'])"
   ]
  },
  {
   "cell_type": "code",
   "execution_count": 17,
   "id": "1201b444-b5e2-47cf-970e-328f98d5a365",
   "metadata": {},
   "outputs": [],
   "source": [
    "df.to_csv(\"community.csv\", index=False)"
   ]
  },
  {
   "cell_type": "code",
   "execution_count": 43,
   "id": "876e16c2-d9ab-4dd7-bd31-e90a93aaa27e",
   "metadata": {},
   "outputs": [],
   "source": [
    "df1 = pd.read_csv('E:\\Community Detection\\data\\community14_works.csv')\n",
    "df2 = pd.read_csv('E:\\Community Detection\\data\\community14.csv')"
   ]
  },
  {
   "cell_type": "code",
   "execution_count": 44,
   "id": "66e5da3d-9494-4057-ac8e-744683714070",
   "metadata": {},
   "outputs": [],
   "source": [
    "colors_dict = {'Buyer': '#de1a24', 'Supplier': '#1f77b4'}\n",
    "shape_dict = {'Supplier': 'dot', 'Buyer': 'triangle'}"
   ]
  },
  {
   "cell_type": "code",
   "execution_count": null,
   "id": "05b93f1d-6119-45ad-a38b-074343035ef6",
   "metadata": {},
   "outputs": [],
   "source": [
    "df1.drop_duplicates(subset=['target', 'source'])"
   ]
  },
  {
   "cell_type": "code",
   "execution_count": 55,
   "id": "30b34a00-5c6c-4149-b694-b70f8bab161c",
   "metadata": {},
   "outputs": [
    {
     "data": {
      "text/html": [
       "\n",
       "        <iframe\n",
       "            width=\"1500px\"\n",
       "            height=\"1000px\"\n",
       "            src=\"network.html\"\n",
       "            frameborder=\"0\"\n",
       "            allowfullscreen\n",
       "            \n",
       "        ></iframe>\n",
       "        "
      ],
      "text/plain": [
       "<IPython.lib.display.IFrame at 0x255680a3040>"
      ]
     },
     "execution_count": 55,
     "metadata": {},
     "output_type": "execute_result"
    }
   ],
   "source": [
    "visualize_network(df1.drop_duplicates(subset=['target', 'source']), colors_dict, shape_dict)"
   ]
  },
  {
   "cell_type": "code",
   "execution_count": null,
   "id": "63cc82d2-a10f-4d13-977b-d0fd3900f774",
   "metadata": {},
   "outputs": [],
   "source": []
  }
 ],
 "metadata": {
  "kernelspec": {
   "display_name": "Python 3 (ipykernel)",
   "language": "python",
   "name": "python3"
  },
  "language_info": {
   "codemirror_mode": {
    "name": "ipython",
    "version": 3
   },
   "file_extension": ".py",
   "mimetype": "text/x-python",
   "name": "python",
   "nbconvert_exporter": "python",
   "pygments_lexer": "ipython3",
   "version": "3.10.8"
  }
 },
 "nbformat": 4,
 "nbformat_minor": 5
}
